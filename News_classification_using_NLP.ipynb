{
 "cells": [
  {
   "cell_type": "code",
   "execution_count": null,
   "metadata": {
    "id": "6xCd2wXjLNOt"
   },
   "outputs": [],
   "source": [
    "pip install nltk"
   ]
  },
  {
   "cell_type": "code",
   "execution_count": null,
   "metadata": {
    "id": "djcN6EThLwDZ"
   },
   "outputs": [],
   "source": [
    "import nltk"
   ]
  },
  {
   "cell_type": "code",
   "execution_count": null,
   "metadata": {
    "id": "jVPB3NKWL8v-"
   },
   "outputs": [],
   "source": [
    "nltk.download('punkt')"
   ]
  },
  {
   "cell_type": "code",
   "execution_count": null,
   "metadata": {
    "id": "0R5qUwCcMBd_"
   },
   "outputs": [],
   "source": [
    "import pandas as pd\n",
    "fake = pd.read_csv(\"Fake.csv\")\n",
    "genuine = pd.read_csv(\"True.csv\")"
   ]
  },
  {
   "cell_type": "code",
   "execution_count": null,
   "metadata": {
    "id": "Vr515CtAMVEK"
   },
   "outputs": [],
   "source": [
    "display(fake.info())\n",
    "display(genuine.info())"
   ]
  },
  {
   "cell_type": "code",
   "execution_count": null,
   "metadata": {
    "id": "ygNV-SgIMqGN"
   },
   "outputs": [],
   "source": [
    "display(fake.head())\n",
    "display(genuine.head())"
   ]
  },
  {
   "cell_type": "code",
   "execution_count": null,
   "metadata": {
    "id": "TE0H-bylMxzS"
   },
   "outputs": [],
   "source": [
    "display(fake.subject.value_counts())\n",
    "print('\\\\n')\n",
    "display(genuine.subject.value_counts())"
   ]
  },
  {
   "cell_type": "code",
   "execution_count": null,
   "metadata": {
    "id": "U-PPvs07NYo-"
   },
   "outputs": [],
   "source": [
    "fake['target'] = 0\n",
    "genuine['target'] = 1"
   ]
  },
  {
   "cell_type": "code",
   "execution_count": null,
   "metadata": {
    "id": "o6TMQa8FNQwc"
   },
   "outputs": [],
   "source": [
    "display(fake.head())"
   ]
  },
  {
   "cell_type": "code",
   "execution_count": null,
   "metadata": {
    "id": "qZy2L6srNTEq"
   },
   "outputs": [],
   "source": [
    "display(genuine.head())"
   ]
  },
  {
   "cell_type": "code",
   "execution_count": null,
   "metadata": {
    "id": "jzG7-PLUNU4r"
   },
   "outputs": [],
   "source": [
    "data = pd.concat([fake,genuine],axis=0)\n",
    "data = data.reset_index(drop=True)\n",
    "data = data.drop(['subject','date','title'],axis=1)\n",
    "print(data.columns)\n",
    "print(data)"
   ]
  },
  {
   "cell_type": "code",
   "execution_count": null,
   "metadata": {
    "id": "GKgTmztRN0Dd"
   },
   "outputs": [],
   "source": [
    "from nltk.tokenize import word_tokenize\n",
    "data['text'] = data['text'].apply(word_tokenize)\n",
    "print(data.head(10))"
   ]
  },
  {
   "cell_type": "code",
   "execution_count": null,
   "metadata": {
    "id": "VNj77G75OEUu"
   },
   "outputs": [],
   "source": [
    "from nltk.stem.snowball import SnowballStemmer\n",
    "porter = SnowballStemmer(\"english\",ignore_stopwords=False)"
   ]
  },
  {
   "cell_type": "code",
   "execution_count": null,
   "metadata": {
    "id": "6kY7xhroOaJ5"
   },
   "outputs": [],
   "source": [
    "def stem_it(text):\n",
    "  return [porter.stem(word) for word in text]"
   ]
  },
  {
   "cell_type": "code",
   "execution_count": null,
   "metadata": {
    "id": "e3tAdGVfOlg-"
   },
   "outputs": [],
   "source": [
    "data['text'] = data['text'].apply(stem_it)\n",
    "print(data.head(10))"
   ]
  },
  {
   "cell_type": "code",
   "execution_count": null,
   "metadata": {
    "id": "hjGgL6OVOvJA"
   },
   "outputs": [],
   "source": [
    "def stop_it(t):\n",
    "  dt = [word for word in t if len(word)>2]\n",
    "  return dt\n",
    "data['text'] = data['text'].apply(stop_it)\n",
    "print(data['text'].head(10))\n"
   ]
  },
  {
   "cell_type": "code",
   "execution_count": null,
   "metadata": {
    "id": "KH7TY999JT3h"
   },
   "outputs": [],
   "source": [
    "data['text'] = data['text'].apply(''.join)"
   ]
  },
  {
   "cell_type": "code",
   "execution_count": null,
   "metadata": {
    "id": "K3g8cTZn7h2D"
   },
   "outputs": [],
   "source": [
    "from sklearn.model_selection import train_test_split\n",
    "X_train, X_test, y_train, y_test = train_test_split(data['text'],data['target'],test_size=0.25)\n",
    "display(X_train.head())\n",
    "print('\\n')\n",
    "display(y_train.head())"
   ]
  },
  {
   "cell_type": "code",
   "execution_count": null,
   "metadata": {
    "id": "h1mju0uWVwMV"
   },
   "outputs": [],
   "source": [
    "from sklearn.feature_extraction.text import TfidfVectorizer\n",
    "my_tfidf = TfidfVectorizer(max_df=0.7)\n",
    "tfidf_train = my_tfidf.fit_transform(X_train)\n",
    "tfidf_test = my_tfidf.transform(X_test)\n",
    "print(tfidf_train)"
   ]
  },
  {
   "cell_type": "code",
   "execution_count": null,
   "metadata": {
    "id": "_H2ovjc8WVzt"
   },
   "outputs": [],
   "source": [
    "from sklearn.linear_model import LogisticRegression\n",
    "from sklearn.metrics import accuracy_score"
   ]
  },
  {
   "cell_type": "code",
   "execution_count": null,
   "metadata": {
    "id": "SS4YcVx_WlLy"
   },
   "outputs": [],
   "source": [
    "model_1 = LogisticRegression(max_iter=900)\n",
    "model_1.fit(tfidf_train, y_train)\n",
    "pred_1=model_1.predict(tfidf_test)\n",
    "cr1 = accuracy_score(y_test,pred_1)\n",
    "print(cr1*100)"
   ]
  },
  {
   "cell_type": "code",
   "execution_count": null,
   "metadata": {
    "id": "HppUPYeCW9-7"
   },
   "outputs": [],
   "source": [
    "from sklearn.linear_model import PassiveAggressiveClassifier\n",
    "\n",
    "model = PassiveAggressiveClassifier(max_iter=50)\n",
    "model.fit(tfidf_train, y_train)"
   ]
  },
  {
   "cell_type": "code",
   "execution_count": null,
   "metadata": {
    "id": "rtC4tqccwiew"
   },
   "outputs": [],
   "source": [
    "y_pred = model.predict(tfidf_test)\n",
    "accscore = accuracy_score(y_test, y_pred)\n",
    "print('The accuracy of prediction is ',accscore*100)"
   ]
  }
 ],
 "metadata": {
  "colab": {
   "name": "News_classification_using_NLP.ipynb",
   "provenance": []
  },
  "kernelspec": {
   "display_name": "Python 3",
   "language": "python",
   "name": "python3"
  },
  "language_info": {
   "codemirror_mode": {
    "name": "ipython",
    "version": 3
   },
   "file_extension": ".py",
   "mimetype": "text/x-python",
   "name": "python",
   "nbconvert_exporter": "python",
   "pygments_lexer": "ipython3",
   "version": "3.8.3"
  }
 },
 "nbformat": 4,
 "nbformat_minor": 1
}
